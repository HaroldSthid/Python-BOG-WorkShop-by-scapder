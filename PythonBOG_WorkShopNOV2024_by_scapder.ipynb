{
  "nbformat": 4,
  "nbformat_minor": 0,
  "metadata": {
    "colab": {
      "provenance": [],
      "mount_file_id": "1e51U5ax4R0Cjz0CU1I5xIvPEmW3lXMDS",
      "authorship_tag": "ABX9TyOufvwE0bui+T0UljEaLBOm",
      "include_colab_link": true
    },
    "kernelspec": {
      "name": "python3",
      "display_name": "Python 3"
    },
    "language_info": {
      "name": "python"
    }
  },
  "cells": [
    {
      "cell_type": "markdown",
      "metadata": {
        "id": "view-in-github",
        "colab_type": "text"
      },
      "source": [
        "<a href=\"https://colab.research.google.com/github/HaroldSthid/Python-BOG-WorkShop-by-scapder/blob/main/PythonBOG_WorkShopNOV2024_by_scapder.ipynb\" target=\"_parent\"><img src=\"https://colab.research.google.com/assets/colab-badge.svg\" alt=\"Open In Colab\"/></a>"
      ]
    },
    {
      "cell_type": "markdown",
      "source": [
        "#Step 1: Configuración inicial en Google Colab\n",
        "##1.1 Montar Google Drive\n",
        "Conecta tu cuenta de Google Drive para acceder a los archivos directamente:"
      ],
      "metadata": {
        "id": "OngVsNGSNIGY"
      }
    },
    {
      "cell_type": "code",
      "execution_count": 1,
      "metadata": {
        "colab": {
          "base_uri": "https://localhost:8080/"
        },
        "id": "bokkY0imLCsk",
        "outputId": "edeb122a-0227-418f-adcc-0a35d970eb4b"
      },
      "outputs": [
        {
          "output_type": "stream",
          "name": "stdout",
          "text": [
            "Drive already mounted at /content/drive; to attempt to forcibly remount, call drive.mount(\"/content/drive\", force_remount=True).\n"
          ]
        }
      ],
      "source": [
        "from google.colab import drive\n",
        "\n",
        "# Montar Google Drive\n",
        "drive.mount('/content/drive')"
      ]
    },
    {
      "cell_type": "markdown",
      "source": [
        "#Step 2: Procesar datos del Spreadsheet\n",
        "(Aquí accederemos al Google Spreadsheet asociado al formulario y guardaremos el resultado en tu Drive en formato .xlsx.)\n",
        "##2.1 Instalar dependencias necesarias\n",
        "Asegúrate de instalar las librerías necesarias en Colab:"
      ],
      "metadata": {
        "id": "Xoi350aUNn9v"
      }
    },
    {
      "cell_type": "code",
      "source": [
        "!pip install --upgrade gspread pandas openpyxl"
      ],
      "metadata": {
        "colab": {
          "base_uri": "https://localhost:8080/"
        },
        "collapsed": true,
        "id": "uvE-ufCRNhns",
        "outputId": "df80e2c8-915b-4771-f5a0-d3e0139f43d4"
      },
      "execution_count": 2,
      "outputs": [
        {
          "output_type": "stream",
          "name": "stdout",
          "text": [
            "Requirement already satisfied: gspread in /usr/local/lib/python3.10/dist-packages (6.0.2)\n",
            "Collecting gspread\n",
            "  Downloading gspread-6.1.4-py3-none-any.whl.metadata (11 kB)\n",
            "Requirement already satisfied: pandas in /usr/local/lib/python3.10/dist-packages (2.2.2)\n",
            "Collecting pandas\n",
            "  Downloading pandas-2.2.3-cp310-cp310-manylinux_2_17_x86_64.manylinux2014_x86_64.whl.metadata (89 kB)\n",
            "\u001b[2K     \u001b[90m━━━━━━━━━━━━━━━━━━━━━━━━━━━━━━━━━━━━━━━━\u001b[0m \u001b[32m89.9/89.9 kB\u001b[0m \u001b[31m3.4 MB/s\u001b[0m eta \u001b[36m0:00:00\u001b[0m\n",
            "\u001b[?25hRequirement already satisfied: openpyxl in /usr/local/lib/python3.10/dist-packages (3.1.5)\n",
            "Requirement already satisfied: google-auth>=1.12.0 in /usr/local/lib/python3.10/dist-packages (from gspread) (2.27.0)\n",
            "Requirement already satisfied: google-auth-oauthlib>=0.4.1 in /usr/local/lib/python3.10/dist-packages (from gspread) (1.2.1)\n",
            "Requirement already satisfied: numpy>=1.22.4 in /usr/local/lib/python3.10/dist-packages (from pandas) (1.26.4)\n",
            "Requirement already satisfied: python-dateutil>=2.8.2 in /usr/local/lib/python3.10/dist-packages (from pandas) (2.8.2)\n",
            "Requirement already satisfied: pytz>=2020.1 in /usr/local/lib/python3.10/dist-packages (from pandas) (2024.2)\n",
            "Requirement already satisfied: tzdata>=2022.7 in /usr/local/lib/python3.10/dist-packages (from pandas) (2024.2)\n",
            "Requirement already satisfied: et-xmlfile in /usr/local/lib/python3.10/dist-packages (from openpyxl) (2.0.0)\n",
            "Requirement already satisfied: cachetools<6.0,>=2.0.0 in /usr/local/lib/python3.10/dist-packages (from google-auth>=1.12.0->gspread) (5.5.0)\n",
            "Requirement already satisfied: pyasn1-modules>=0.2.1 in /usr/local/lib/python3.10/dist-packages (from google-auth>=1.12.0->gspread) (0.4.1)\n",
            "Requirement already satisfied: rsa<5,>=3.1.4 in /usr/local/lib/python3.10/dist-packages (from google-auth>=1.12.0->gspread) (4.9)\n",
            "Requirement already satisfied: requests-oauthlib>=0.7.0 in /usr/local/lib/python3.10/dist-packages (from google-auth-oauthlib>=0.4.1->gspread) (1.3.1)\n",
            "Requirement already satisfied: six>=1.5 in /usr/local/lib/python3.10/dist-packages (from python-dateutil>=2.8.2->pandas) (1.16.0)\n",
            "Requirement already satisfied: pyasn1<0.7.0,>=0.4.6 in /usr/local/lib/python3.10/dist-packages (from pyasn1-modules>=0.2.1->google-auth>=1.12.0->gspread) (0.6.1)\n",
            "Requirement already satisfied: oauthlib>=3.0.0 in /usr/local/lib/python3.10/dist-packages (from requests-oauthlib>=0.7.0->google-auth-oauthlib>=0.4.1->gspread) (3.2.2)\n",
            "Requirement already satisfied: requests>=2.0.0 in /usr/local/lib/python3.10/dist-packages (from requests-oauthlib>=0.7.0->google-auth-oauthlib>=0.4.1->gspread) (2.32.3)\n",
            "Requirement already satisfied: charset-normalizer<4,>=2 in /usr/local/lib/python3.10/dist-packages (from requests>=2.0.0->requests-oauthlib>=0.7.0->google-auth-oauthlib>=0.4.1->gspread) (3.4.0)\n",
            "Requirement already satisfied: idna<4,>=2.5 in /usr/local/lib/python3.10/dist-packages (from requests>=2.0.0->requests-oauthlib>=0.7.0->google-auth-oauthlib>=0.4.1->gspread) (3.10)\n",
            "Requirement already satisfied: urllib3<3,>=1.21.1 in /usr/local/lib/python3.10/dist-packages (from requests>=2.0.0->requests-oauthlib>=0.7.0->google-auth-oauthlib>=0.4.1->gspread) (2.2.3)\n",
            "Requirement already satisfied: certifi>=2017.4.17 in /usr/local/lib/python3.10/dist-packages (from requests>=2.0.0->requests-oauthlib>=0.7.0->google-auth-oauthlib>=0.4.1->gspread) (2024.8.30)\n",
            "Downloading gspread-6.1.4-py3-none-any.whl (57 kB)\n",
            "\u001b[2K   \u001b[90m━━━━━━━━━━━━━━━━━━━━━━━━━━━━━━━━━━━━━━━━\u001b[0m \u001b[32m57.6/57.6 kB\u001b[0m \u001b[31m4.6 MB/s\u001b[0m eta \u001b[36m0:00:00\u001b[0m\n",
            "\u001b[?25hDownloading pandas-2.2.3-cp310-cp310-manylinux_2_17_x86_64.manylinux2014_x86_64.whl (13.1 MB)\n",
            "\u001b[2K   \u001b[90m━━━━━━━━━━━━━━━━━━━━━━━━━━━━━━━━━━━━━━━━\u001b[0m \u001b[32m13.1/13.1 MB\u001b[0m \u001b[31m81.4 MB/s\u001b[0m eta \u001b[36m0:00:00\u001b[0m\n",
            "\u001b[?25hInstalling collected packages: pandas, gspread\n",
            "  Attempting uninstall: pandas\n",
            "    Found existing installation: pandas 2.2.2\n",
            "    Uninstalling pandas-2.2.2:\n",
            "      Successfully uninstalled pandas-2.2.2\n",
            "  Attempting uninstall: gspread\n",
            "    Found existing installation: gspread 6.0.2\n",
            "    Uninstalling gspread-6.0.2:\n",
            "      Successfully uninstalled gspread-6.0.2\n",
            "\u001b[31mERROR: pip's dependency resolver does not currently take into account all the packages that are installed. This behaviour is the source of the following dependency conflicts.\n",
            "cudf-cu12 24.10.1 requires pandas<2.2.3dev0,>=2.0, but you have pandas 2.2.3 which is incompatible.\n",
            "google-colab 1.0.0 requires pandas==2.2.2, but you have pandas 2.2.3 which is incompatible.\u001b[0m\u001b[31m\n",
            "\u001b[0mSuccessfully installed gspread-6.1.4 pandas-2.2.3\n"
          ]
        }
      ]
    },
    {
      "cell_type": "markdown",
      "source": [
        "##2.2 Autenticación y conexión\n",
        "Google Colab tiene un flujo más sencillo para trabajar con las APIs de Google:"
      ],
      "metadata": {
        "id": "VSIhiJ9lOKFr"
      }
    },
    {
      "cell_type": "code",
      "source": [
        "SERVICE_ACCOUNT_FILE = '/content/drive/My Drive/datapreparationfilgud-c4064bbc441a.json'"
      ],
      "metadata": {
        "id": "sGGMt6PbYvQ9"
      },
      "execution_count": 3,
      "outputs": []
    },
    {
      "cell_type": "code",
      "source": [
        "import os\n",
        "\n",
        "# Comprobando si el archivo existe\n",
        "SERVICE_ACCOUNT_FILE = '/content/datapreparationfilgud-c4064bbc441a.json'\n",
        "\n",
        "if os.path.exists(SERVICE_ACCOUNT_FILE):\n",
        "    print(\"El archivo JSON fue encontrado correctamente.\")\n",
        "else:\n",
        "    print(\"El archivo JSON no fue encontrado. Verifica la ruta.\")\n"
      ],
      "metadata": {
        "colab": {
          "base_uri": "https://localhost:8080/"
        },
        "id": "6zeIgBq3aFSy",
        "outputId": "04aa43a3-9e5a-476e-8ffb-8a43ee168151"
      },
      "execution_count": 7,
      "outputs": [
        {
          "output_type": "stream",
          "name": "stdout",
          "text": [
            "El archivo JSON fue encontrado correctamente.\n"
          ]
        }
      ]
    },
    {
      "cell_type": "code",
      "source": [
        "# Librerías necesarias\n",
        "from google.oauth2.service_account import Credentials\n",
        "from googleapiclient.discovery import build\n",
        "\n",
        "# Ruta al archivo JSON (asegúrate de que esta ruta sea correcta)\n",
        "SERVICE_ACCOUNT_FILE = '/content/datapreparationfilgud-c4064bbc441a.json'\n",
        "\n",
        "# Ámbitos necesarios para Google Sheets\n",
        "SCOPES = ['https://www.googleapis.com/auth/spreadsheets']\n",
        "\n",
        "# Cargando las credenciales desde el archivo JSON\n",
        "credentials = Credentials.from_service_account_file(\n",
        "    SERVICE_ACCOUNT_FILE, scopes=SCOPES\n",
        ")\n",
        "\n",
        "# Inicializando el cliente de Google Sheets\n",
        "service = build('sheets', 'v4', credentials=credentials)\n",
        "\n",
        "print(\"¡Conexión exitosa con la API de Google Sheets!\")\n",
        "\n"
      ],
      "metadata": {
        "colab": {
          "base_uri": "https://localhost:8080/"
        },
        "id": "Vh53v2JhOK5K",
        "outputId": "a74739bc-16c6-41ae-e0bc-29adde9fca4b"
      },
      "execution_count": 8,
      "outputs": [
        {
          "output_type": "stream",
          "name": "stdout",
          "text": [
            "¡Conexión exitosa con la API de Google Sheets!\n"
          ]
        }
      ]
    },
    {
      "cell_type": "markdown",
      "source": [
        "##2.3 Leer y procesar datos\n",
        "El objetivo aquí es leer los datos desde Google Sheets y convertirlos en un DataFrame de pandas para facilitar la manipulación. A continuación, el script para hacerlo:"
      ],
      "metadata": {
        "id": "Sce084rEeDzo"
      }
    },
    {
      "cell_type": "code",
      "source": [
        "import pandas as pd\n",
        "from googleapiclient.discovery import build\n",
        "\n",
        "# Crear el servicio de Google Sheets usando las credenciales autenticadas\n",
        "service = build('sheets', 'v4', credentials=credentials)\n",
        "\n",
        "# ID del Google Spreadsheet (extraído de la URL)\n",
        "SPREADSHEET_ID = '1WHniaP8NvS__xzRa4tv8Lzi6QxTLXVYeu3e_D_p_WOE'\n",
        "\n",
        "# Nombre del rango que contiene los datos (puedes ajustar según tu hoja)\n",
        "RANGE_NAME = 'Form Responses 1!A1:Z1000'  # Cambia el nombre según el nombre de tu hoja en el archivo\n",
        "\n",
        "# Llamada para obtener los datos desde la hoja de cálculo\n",
        "sheet = service.spreadsheets()\n",
        "result = sheet.values().get(spreadsheetId=SPREADSHEET_ID, range=RANGE_NAME).execute()\n",
        "values = result.get('values', [])\n",
        "\n",
        "# Verificar si hay datos en la hoja\n",
        "if not values:\n",
        "    print(\"No se encontraron datos en la hoja.\")\n",
        "else:\n",
        "    # Convertir los datos a un DataFrame de pandas\n",
        "    df = pd.DataFrame(values[1:], columns=values[0])  # Primera fila como encabezado\n",
        "    print(\"Datos cargados exitosamente en un DataFrame:\")\n",
        "    print(df.head())\n"
      ],
      "metadata": {
        "colab": {
          "base_uri": "https://localhost:8080/"
        },
        "id": "cnzAqca7e-5u",
        "outputId": "5e0de4dd-24ca-4984-a3ab-3259afd9c30d"
      },
      "execution_count": 9,
      "outputs": [
        {
          "output_type": "stream",
          "name": "stdout",
          "text": [
            "Datos cargados exitosamente en un DataFrame:\n",
            "             Timestamp Email Address  \\\n",
            "0  10/23/2023 18:15:48                 \n",
            "1  10/23/2023 18:19:02                 \n",
            "2  10/23/2023 18:20:07                 \n",
            "3  10/23/2023 18:20:26                 \n",
            "4    5/7/2024 17:40:01                 \n",
            "\n",
            "  Me siento entusiasmado/a por explorar nuevos lugares y probar nuevas actividades en mi tiempo libre.  \\\n",
            "0                                                  5                                                     \n",
            "1                                                  5                                                     \n",
            "2                                                  4                                                     \n",
            "3                                                  5                                                     \n",
            "4                                                  5                                                     \n",
            "\n",
            "  Prefiero tener una agenda organizada a ser espontáneo/a en mi día a día.  \\\n",
            "0                                                  3                         \n",
            "1                                                  4                         \n",
            "2                                                  5                         \n",
            "3                                                  3                         \n",
            "4                                                  4                         \n",
            "\n",
            "  Disfruto más de reuniones grandes con muchos amigos que de encuentros íntimos.  \\\n",
            "0                                                  3                               \n",
            "1                                                  3                               \n",
            "2                                                  5                               \n",
            "3                                                  4                               \n",
            "4                                                  2                               \n",
            "\n",
            "  Es importante para mí ayudar a los demás y participar en actividades comunitarias.  \\\n",
            "0                                                  4                                   \n",
            "1                                                  5                                   \n",
            "2                                                  4                                   \n",
            "3                                                  4                                   \n",
            "4                                                  3                                   \n",
            "\n",
            "  Frecuentemente me preocupo por situaciones futuras o imprevistas.  \\\n",
            "0                                                  4                  \n",
            "1                                                  5                  \n",
            "2                                                  5                  \n",
            "3                                                  4                  \n",
            "4                                                  3                  \n",
            "\n",
            "  Regularmente me interesa aprender sobre tradiciones y culturas diferentes.  \\\n",
            "0                                                  4                           \n",
            "1                                                  4                           \n",
            "2                                                  5                           \n",
            "3                                                  3                           \n",
            "4                                                  4                           \n",
            "\n",
            "  Prefiero actividades que requieren un enfoque detallado a tareas más flexibles.  \\\n",
            "0                                                  4                                \n",
            "1                                                  5                                \n",
            "2                                                  2                                \n",
            "3                                                  4                                \n",
            "4                                                  3                                \n",
            "\n",
            "  A menudo busco emociones fuertes y actividades que me hagan sentir adrenalina.  \\\n",
            "0                                                  5                               \n",
            "1                                                  3                               \n",
            "2                                                  5                               \n",
            "3                                                  4                               \n",
            "4                                                  2                               \n",
            "\n",
            "  Frecuentemente participo en actividades voluntarias o de ayuda comunitaria.  \\\n",
            "0                                                  2                            \n",
            "1                                                  3                            \n",
            "2                                                  5                            \n",
            "3                                                  3                            \n",
            "4                                                  2                            \n",
            "\n",
            "  Me siento cómodo/a con cambios inesperados o planes de último momento.  \\\n",
            "0                                                  1                       \n",
            "1                                                  2                       \n",
            "2                                                  4                       \n",
            "3                                                  2                       \n",
            "4                                                  2                       \n",
            "\n",
            "  Calificación Melodía No1 Calificación Melodía No2 Calificación Melodía No3  \\\n",
            "0                     None                     None                     None   \n",
            "1                     None                     None                     None   \n",
            "2                     None                     None                     None   \n",
            "3                     None                     None                     None   \n",
            "4                                                                              \n",
            "\n",
            "  Calificación Melodía No4 Calificación Melodía No5  \\\n",
            "0                     None                     None   \n",
            "1                     None                     None   \n",
            "2                     None                     None   \n",
            "3                     None                     None   \n",
            "4                                                     \n",
            "\n",
            "  Registre Su Nombre de la siguiente manera (Juan Pérez) = JUAPER las 3 primeras letras de su primer Nombre y las 3 primeras letras de su primer Apellido  \n",
            "0                                               None                                                                                                       \n",
            "1                                               None                                                                                                       \n",
            "2                                               None                                                                                                       \n",
            "3                                               None                                                                                                       \n",
            "4                                             Lisver                                                                                                       \n"
          ]
        }
      ]
    },
    {
      "cell_type": "markdown",
      "source": [
        "##Código actualizado con matrizrasgospesonalidad quemada:"
      ],
      "metadata": {
        "id": "KAtLKBtMuJj8"
      }
    },
    {
      "cell_type": "code",
      "source": [
        "import pandas as pd\n",
        "\n",
        "# 1. DataFrame cargado desde la hoja del formulario (obtenido en 2.3)\n",
        "df_respuestas = df.copy()\n",
        "\n",
        "# 2. Matriz de preguntas y rasgos quemada en el código\n",
        "matriz_rasgos = {\n",
        "    'Me siento entusiasmado/a por explorar nuevos lugares y probar nuevas actividades en mi tiempo libre.': 'O',\n",
        "    'Prefiero tener una agenda organizada a ser espontáneo/a en mi día a día.': 'C',\n",
        "    'Disfruto más de reuniones grandes con muchos amigos que de encuentros íntimos.': 'E',\n",
        "    'Es importante para mí ayudar a los demás y participar en actividades comunitarias.': 'A',\n",
        "    'Frecuentemente me preocupo por situaciones futuras o imprevistas.': 'N',\n",
        "    'Regularmente me interesa aprender sobre tradiciones y culturas diferentes.': 'O',\n",
        "    'Prefiero actividades que requieren un enfoque detallado a tareas más flexibles.': 'C',\n",
        "    'A menudo busco emociones fuertes y actividades que me hagan sentir adrenalina.': 'E',\n",
        "    'Frecuentemente participo en actividades voluntarias o de ayuda comunitaria.': 'A',\n",
        "    'Me siento cómodo/a con cambios inesperados o planes de último momento.': 'N'\n",
        "}\n",
        "\n",
        "# 3. Renombrar columnas del DataFrame basado en la matriz\n",
        "df_respuestas_renombrado = df_respuestas.rename(columns=matriz_rasgos)\n",
        "\n",
        "# 4. Calcular el puntaje promedio por rasgo (O, C, E, A, N)\n",
        "rasgos = ['O', 'C', 'E', 'A', 'N']\n",
        "for rasgo in rasgos:\n",
        "    columnas_rasgo = [col for col in df_respuestas_renombrado.columns if col == rasgo]\n",
        "    df_respuestas_renombrado[f'Puntaje_{rasgo}'] = df_respuestas_renombrado[columnas_rasgo].astype(float).mean(axis=1)\n",
        "\n",
        "# 5. Verificar el DataFrame transformado\n",
        "print(\"DataFrame final con puntajes OCEAN:\")\n",
        "print(df_respuestas_renombrado[['Puntaje_O', 'Puntaje_C', 'Puntaje_E', 'Puntaje_A', 'Puntaje_N']].head())\n",
        "\n",
        "# 6. Guardar el DataFrame procesado como un archivo Excel\n",
        "output_path_procesado = '/content/drive/My Drive/FormResponses_Procesado.xlsx'\n",
        "df_respuestas_renombrado.to_excel(output_path_procesado, index=False, engine='openpyxl')\n",
        "print(f\"Archivo procesado guardado en: {output_path_procesado}\")\n"
      ],
      "metadata": {
        "colab": {
          "base_uri": "https://localhost:8080/"
        },
        "id": "jEFksCTiuG86",
        "outputId": "2d1240ee-d26d-47fc-ef64-2d8be9b0fcb3"
      },
      "execution_count": 10,
      "outputs": [
        {
          "output_type": "stream",
          "name": "stdout",
          "text": [
            "DataFrame final con puntajes OCEAN:\n",
            "   Puntaje_O  Puntaje_C  Puntaje_E  Puntaje_A  Puntaje_N\n",
            "0        4.5        3.5        4.0        3.0        2.5\n",
            "1        4.5        4.5        3.0        4.0        3.5\n",
            "2        4.5        3.5        5.0        4.5        4.5\n",
            "3        4.0        3.5        4.0        3.5        3.0\n",
            "4        4.5        3.5        2.0        2.5        2.5\n",
            "Archivo procesado guardado en: /content/drive/My Drive/FormResponses_Procesado.xlsx\n"
          ]
        }
      ]
    },
    {
      "cell_type": "markdown",
      "source": [
        "##2.5 Calcular puntajes promedio por rasgo OCEAN\n",
        "Aquí agregamos el cálculo del puntaje promedio para cada uno de los rasgos OCEAN. Usaremos la matriz creada previamente."
      ],
      "metadata": {
        "id": "9qEt-H-_uhlZ"
      }
    },
    {
      "cell_type": "code",
      "source": [
        "# Crear un DataFrame para almacenar los puntajes de cada rasgo\n",
        "rasgos_ocean = [\"O\", \"C\", \"E\", \"A\", \"N\"]\n",
        "puntajes = {rasgo: [] for rasgo in rasgos_ocean}\n",
        "\n",
        "# Iterar sobre cada rasgo y calcular el puntaje promedio\n",
        "for rasgo in rasgos_ocean:\n",
        "    preguntas_rasgo = [pregunta for pregunta, r in matriz_rasgos.items() if r == rasgo]\n",
        "    if preguntas_rasgo:\n",
        "        # Filtrar solo las columnas relevantes y calcular el promedio\n",
        "        df_rasgo = df[preguntas_rasgo].apply(pd.to_numeric, errors='coerce')  # Convertir a numérico\n",
        "        puntajes[rasgo] = df_rasgo.mean(axis=1).fillna(0)  # Promedio por fila, NaN como 0\n",
        "\n",
        "# Añadir los puntajes al DataFrame original\n",
        "for rasgo in rasgos_ocean:\n",
        "    df[f\"Puntaje_{rasgo}\"] = puntajes[rasgo]\n",
        "\n",
        "print(\"Puntajes promedio calculados y agregados al DataFrame.\")\n"
      ],
      "metadata": {
        "colab": {
          "base_uri": "https://localhost:8080/"
        },
        "id": "vi6wgBYNuhNW",
        "outputId": "df89319b-2e22-471d-920b-9b0d05dcd94a"
      },
      "execution_count": 11,
      "outputs": [
        {
          "output_type": "stream",
          "name": "stdout",
          "text": [
            "Puntajes promedio calculados y agregados al DataFrame.\n"
          ]
        }
      ]
    },
    {
      "cell_type": "markdown",
      "source": [
        "#MODELAMIENTO\n",
        "Importar las librerías necesarias:"
      ],
      "metadata": {
        "id": "JUJRn1Ycwp4u"
      }
    },
    {
      "cell_type": "code",
      "source": [
        "from sklearn.cluster import KMeans\n",
        "from sklearn.preprocessing import StandardScaler\n",
        "import numpy as np"
      ],
      "metadata": {
        "id": "r9qphzPJwttj"
      },
      "execution_count": 12,
      "outputs": []
    },
    {
      "cell_type": "markdown",
      "source": [
        "Preparar los datos para clustering:"
      ],
      "metadata": {
        "id": "VQPuqCgsw4wm"
      }
    },
    {
      "cell_type": "code",
      "source": [
        "# Seleccionar las columnas con los puntajes OCEAN\n",
        "features = [\"Puntaje_O\", \"Puntaje_C\", \"Puntaje_E\", \"Puntaje_A\", \"Puntaje_N\"]\n",
        "data_for_clustering = df[features]\n",
        "\n",
        "# Escalar los datos para normalizar las magnitudes\n",
        "scaler = StandardScaler()\n",
        "data_scaled = scaler.fit_transform(data_for_clustering)"
      ],
      "metadata": {
        "id": "KLcRSh29w9Gr"
      },
      "execution_count": 13,
      "outputs": []
    },
    {
      "cell_type": "markdown",
      "source": [
        "Aplicar K-Means:"
      ],
      "metadata": {
        "id": "K2a27SgtxBaE"
      }
    },
    {
      "cell_type": "code",
      "source": [
        "# Definir el número de clusters (por ejemplo, 3)\n",
        "k = 3\n",
        "kmeans = KMeans(n_clusters=k, random_state=42)\n",
        "\n",
        "# Ajustar el modelo y predecir los clusters\n",
        "df['Cluster'] = kmeans.fit_predict(data_scaled)\n",
        "\n",
        "# Mostrar los resultados iniciales\n",
        "print(\"Clusters asignados:\")\n",
        "print(df[['Puntaje_O', 'Puntaje_C', 'Puntaje_E', 'Puntaje_A', 'Puntaje_N', 'Cluster']].head())"
      ],
      "metadata": {
        "colab": {
          "base_uri": "https://localhost:8080/"
        },
        "id": "_Uw0Qza0xEiA",
        "outputId": "305dca10-312e-400c-c498-da74b63a1c78"
      },
      "execution_count": 14,
      "outputs": [
        {
          "output_type": "stream",
          "name": "stdout",
          "text": [
            "Clusters asignados:\n",
            "   Puntaje_O  Puntaje_C  Puntaje_E  Puntaje_A  Puntaje_N  Cluster\n",
            "0        4.5        3.5        4.0        3.0        2.5        2\n",
            "1        4.5        4.5        3.0        4.0        3.5        2\n",
            "2        4.5        3.5        5.0        4.5        4.5        1\n",
            "3        4.0        3.5        4.0        3.5        3.0        2\n",
            "4        4.5        3.5        2.0        2.5        2.5        0\n"
          ]
        }
      ]
    },
    {
      "cell_type": "markdown",
      "source": [
        "Mapear los clusters a los perfiles (usando la hoja perfiles):"
      ],
      "metadata": {
        "id": "UusOtmHGxJtb"
      }
    },
    {
      "cell_type": "code",
      "source": [
        "# Definir el mapeo de clusters a perfiles según la hoja \"perfiles\"\n",
        "cluster_to_profile = {\n",
        "    0: \"Extrovertido\",\n",
        "    1: \"Analítico\",\n",
        "    2: \"Aventurero\"\n",
        "}\n",
        "\n",
        "# Crear una nueva columna con los perfiles asignados\n",
        "df['Perfil'] = df['Cluster'].map(cluster_to_profile)\n",
        "\n",
        "print(\"Perfiles asignados:\")\n",
        "print(df[['Cluster', 'Perfil']].head())\n"
      ],
      "metadata": {
        "colab": {
          "base_uri": "https://localhost:8080/"
        },
        "id": "LADBNGudxPW3",
        "outputId": "9fe47543-9aa1-4388-9a42-0f4a14e8741e"
      },
      "execution_count": 15,
      "outputs": [
        {
          "output_type": "stream",
          "name": "stdout",
          "text": [
            "Perfiles asignados:\n",
            "   Cluster        Perfil\n",
            "0        2    Aventurero\n",
            "1        2    Aventurero\n",
            "2        1     Analítico\n",
            "3        2    Aventurero\n",
            "4        0  Extrovertido\n"
          ]
        }
      ]
    },
    {
      "cell_type": "markdown",
      "source": [
        "#Steps Refinados para Incluir la Evaluación de Melodías y Generar Perfiles:\n",
        "##1: Relacionar la Evaluación de Melodías con los Rasgos de OCEAN\n",
        "Cada calificación de melodía puede vincularse con uno o varios rasgos de OCEAN. Por ejemplo:\n",
        "\n",
        "Melodías energéticas (extraversión): Resuenan más con perfiles sociales.\n",
        "Melodías reflexivas (responsabilidad): Resuenan con planificadores.\n",
        "Melodías experimentales (apertura): Resuenan con exploradores.\n",
        "Código para integrar calificaciones de melodías en el DataFrame:\n",
        "Supongamos que las columnas relacionadas con las calificaciones de melodías son Melodía1, Melodía2, ..., Melodía5"
      ],
      "metadata": {
        "id": "Yyu-HEyozM9Z"
      }
    },
    {
      "cell_type": "code",
      "source": [
        "# Ajuste del mapeo de melodías a rasgos de personalidad\n",
        "melodia_a_rasgo = {\n",
        "    \"Melodía No1\": \"Amabilidad\",  # Antes: Apertura\n",
        "    \"Melodía No2\": \"Apertura a la Experiencia\",  # Antes: Responsabilidad\n",
        "    \"Melodía No3\": \"Responsabilidad\",  # Antes: Extraversión\n",
        "    \"Melodía No4\": \"Neuroticismo\",  # Antes: Amabilidad\n",
        "    \"Melodía No5\": \"Responsabilidad\"  # Antes: Neuroticismo\n",
        "}\n",
        "\n",
        "# Verificar el nuevo mapeo\n",
        "print(\"Nuevo mapeo de melodías a rasgos:\")\n",
        "for melodia, rasgo in melodia_a_rasgo.items():\n",
        "    print(f\"{melodia}: {rasgo}\")"
      ],
      "metadata": {
        "colab": {
          "base_uri": "https://localhost:8080/"
        },
        "id": "pxx_itVB7bxH",
        "outputId": "b3dc1851-59fe-4284-9f0c-78e651215858"
      },
      "execution_count": 16,
      "outputs": [
        {
          "output_type": "stream",
          "name": "stdout",
          "text": [
            "Nuevo mapeo de melodías a rasgos:\n",
            "Melodía No1: Amabilidad\n",
            "Melodía No2: Apertura a la Experiencia\n",
            "Melodía No3: Responsabilidad\n",
            "Melodía No4: Neuroticismo\n",
            "Melodía No5: Responsabilidad\n"
          ]
        }
      ]
    },
    {
      "cell_type": "markdown",
      "source": [
        "#MODELAMIENTO VER 2.0 + Mejora\n",
        "A continuación, reorganizamos y completamos los steps considerando tanto los ya implementados como los ajustes necesarios para robustecer el análisis."
      ],
      "metadata": {
        "id": "M7dcDmM-3S5x"
      }
    },
    {
      "cell_type": "markdown",
      "source": [
        "##Step 1: Crear una tabla de mapeo entre perfiles y rasgos asociados\n",
        "\n",
        "Se define la tabla melodia_a_rasgo para identificar qué melodía está asociada a qué rasgo.\n",
        "\n",
        "Esto permite relacionar directamente las calificaciones de las melodías con los rasgos OCEAN."
      ],
      "metadata": {
        "id": "pLs23d_c3d_J"
      }
    },
    {
      "cell_type": "code",
      "source": [
        "# Mapeo de melodías a rasgos\n",
        "melodia_a_rasgo = {\n",
        "    \"Melodía No1\": \"AMABILIDAD\",\n",
        "    \"Melodía No2\": \"APERTURA A LA EXPERIENCIA\",\n",
        "    \"Melodía No3\": \"RESPONSABILIDAD\",\n",
        "    \"Melodía No4\": \"NEUROTICISMO\",\n",
        "    \"Melodía No5\": \"EXTRAVERSIÓN\"\n",
        "}\n",
        "\n",
        "# Mapeo de perfiles a sus rasgos principales\n",
        "perfil_a_rasgo = {\n",
        "    \"Explorador\": \"APERTURA A LA EXPERIENCIA\",\n",
        "    \"Planificador\": \"RESPONSABILIDAD\",\n",
        "    \"Social\": \"EXTRAVERSIÓN\",\n",
        "    \"Altruista\": \"AMABILIDAD\",\n",
        "    \"Sensible\": \"NEUROTICISMO\"\n",
        "}\n"
      ],
      "metadata": {
        "id": "q_ijghWFKd6J"
      },
      "execution_count": 17,
      "outputs": []
    },
    {
      "cell_type": "markdown",
      "source": [
        "##Step 2: Identificar la melodía asociada al perfil\n",
        "\n",
        "Se busca identificar qué melodía es más calificada y relacionarla con los rasgos asociados al perfil."
      ],
      "metadata": {
        "id": "Z2YllNxr3ir3"
      }
    },
    {
      "cell_type": "code",
      "source": [
        "# Identificar la melodía con la calificación más alta\n",
        "melodia_columns = [\n",
        "    \"Calificación Melodía No1\",\n",
        "    \"Calificación Melodía No2\",\n",
        "    \"Calificación Melodía No3\",\n",
        "    \"Calificación Melodía No4\",\n",
        "    \"Calificación Melodía No5\"\n",
        "]\n",
        "\n",
        "# Crear una nueva columna para la melodía más calificada\n",
        "df[\"Melodía_Más_Calificada\"] = df[melodia_columns].idxmax(axis=1)\n",
        "\n",
        "# Mapear la melodía más calificada a su rasgo\n",
        "df[\"Rasgo_Melodía\"] = df[\"Melodía_Más_Calificada\"].map(lambda x: melodia_a_rasgo.get(x, None))\n"
      ],
      "metadata": {
        "colab": {
          "base_uri": "https://localhost:8080/"
        },
        "id": "Tko6QbTqKmfH",
        "outputId": "037e1978-900b-4f06-d27f-8e07adde401f"
      },
      "execution_count": 18,
      "outputs": [
        {
          "output_type": "stream",
          "name": "stderr",
          "text": [
            "<ipython-input-18-eef10c9ef3d1>:11: FutureWarning: The behavior of DataFrame.idxmax with all-NA values, or any-NA and skipna=False, is deprecated. In a future version this will raise ValueError\n",
            "  df[\"Melodía_Más_Calificada\"] = df[melodia_columns].idxmax(axis=1)\n"
          ]
        }
      ]
    },
    {
      "cell_type": "markdown",
      "source": [
        "##Step 3: Comparar calificaciones de la melodía y el perfil\n",
        "\n",
        "Creamos una función para verificar si la calificación más alta está alineada con el rasgo principal del perfil."
      ],
      "metadata": {
        "id": "gDSr1mcg3sb9"
      }
    },
    {
      "cell_type": "code",
      "source": [
        "# Función para verificar si la melodía más calificada corresponde al rasgo del perfil\n",
        "def verificar_concordancia(row):\n",
        "    rasgo_perfil = perfil_a_rasgo.get(row[\"Perfil\"], None)\n",
        "    rasgo_melodia = row[\"Rasgo_Melodía\"]\n",
        "    return rasgo_melodia == rasgo_perfil\n",
        "\n",
        "# Aplicar la función\n",
        "df[\"Concordancia_Perfil_Melodía\"] = df.apply(verificar_concordancia, axis=1)\n"
      ],
      "metadata": {
        "id": "xLt4Pk15ExJo"
      },
      "execution_count": 19,
      "outputs": []
    },
    {
      "cell_type": "markdown",
      "source": [
        "##Step 4: Crear un filtro para casos válidos\n",
        "\n",
        "Añadimos una columna Calificaciones_Completas para verificar si las calificaciones de las melodías fueron diligenciadas."
      ],
      "metadata": {
        "id": "yeACgAwaK8yi"
      }
    },
    {
      "cell_type": "code",
      "source": [
        "# Verificar si hay calificaciones completas\n",
        "df[\"Calificaciones_Completas\"] = df[melodia_columns].notnull().any(axis=1)"
      ],
      "metadata": {
        "id": "Ai_cVyK5K_s2"
      },
      "execution_count": 20,
      "outputs": []
    },
    {
      "cell_type": "markdown",
      "source": [
        "##Step 5: Ajustar la columna Concordancia_Perfil_Melodía\n",
        "\n",
        "Para evitar inconsistencias, solo aplicamos la verificación de concordancia a los registros con Calificaciones_Completas = True."
      ],
      "metadata": {
        "id": "bl24EQGPLE9w"
      }
    },
    {
      "cell_type": "code",
      "source": [
        "# Ajustar la columna Concordancia_Perfil_Melodía\n",
        "df.loc[~df[\"Calificaciones_Completas\"], \"Concordancia_Perfil_Melodía\"] = \"Sin Datos\"\n"
      ],
      "metadata": {
        "colab": {
          "base_uri": "https://localhost:8080/"
        },
        "id": "hERuZBKzLKFw",
        "outputId": "7cc11043-779c-4908-bb8d-e0dddd6916f5"
      },
      "execution_count": 21,
      "outputs": [
        {
          "output_type": "stream",
          "name": "stderr",
          "text": [
            "<ipython-input-21-0fb83ab0509b>:2: FutureWarning: Setting an item of incompatible dtype is deprecated and will raise an error in a future version of pandas. Value 'Sin Datos' has dtype incompatible with bool, please explicitly cast to a compatible dtype first.\n",
            "  df.loc[~df[\"Calificaciones_Completas\"], \"Concordancia_Perfil_Melodía\"] = \"Sin Datos\"\n"
          ]
        }
      ]
    },
    {
      "cell_type": "markdown",
      "source": [
        "##Step 6: Analizar los resultados\n",
        "\n",
        "Calculamos el porcentaje de concordancia y generamos un análisis de los fallos."
      ],
      "metadata": {
        "id": "CFHVORHjLP4k"
      }
    },
    {
      "cell_type": "code",
      "source": [
        "# Calcular porcentaje de concordancia\n",
        "total_concordantes = df[\"Concordancia_Perfil_Melodía\"].value_counts().get(True, 0)\n",
        "total_validos = df[\"Calificaciones_Completas\"].sum()\n",
        "porcentaje_concordancia = (total_concordantes / total_validos) * 100 if total_validos > 0 else 0\n",
        "\n",
        "print(f\"Porcentaje de Concordancia: {porcentaje_concordancia:.2f}%\")\n",
        "\n",
        "# Análisis de fallos\n",
        "fallos = df[df[\"Concordancia_Perfil_Melodía\"] == False]\n",
        "print(\"Fallos en Concordancia:\")\n",
        "print(fallos[[\"Perfil\", \"Rasgo_Melodía\", \"Melodía_Más_Calificada\"]])\n"
      ],
      "metadata": {
        "colab": {
          "base_uri": "https://localhost:8080/"
        },
        "id": "NwYGij3yLV9-",
        "outputId": "732aae7e-bdb8-4ada-a1f2-3964cf9fb313"
      },
      "execution_count": 22,
      "outputs": [
        {
          "output_type": "stream",
          "name": "stdout",
          "text": [
            "Porcentaje de Concordancia: 100.00%\n",
            "Fallos en Concordancia:\n",
            "Empty DataFrame\n",
            "Columns: [Perfil, Rasgo_Melodía, Melodía_Más_Calificada]\n",
            "Index: []\n"
          ]
        }
      ]
    },
    {
      "cell_type": "markdown",
      "source": [
        "##Step 7: Incorporar perfiles en base a los rasgos y melodías\n",
        "\n",
        "Agregamos la columna Perfil_Asignado que permite asignar un perfil basado en las calificaciones y los rasgos asociados."
      ],
      "metadata": {
        "id": "euEzZNZXLa_F"
      }
    },
    {
      "cell_type": "code",
      "source": [
        "# Función para asignar el perfil basado en las calificaciones de los rasgos\n",
        "def asignar_perfil(row):\n",
        "    rasgo_max = row[[\"Puntaje_O\", \"Puntaje_C\", \"Puntaje_E\", \"Puntaje_A\", \"Puntaje_N\"]].idxmax()\n",
        "    return next((perfil for perfil, rasgo in perfil_a_rasgo.items() if rasgo == rasgo_max), \"Indefinido\")\n",
        "\n",
        "# Aplicar la asignación\n",
        "df[\"Perfil_Asignado\"] = df.apply(asignar_perfil, axis=1)"
      ],
      "metadata": {
        "id": "Rwg6MgsuLfXp"
      },
      "execution_count": 23,
      "outputs": []
    },
    {
      "cell_type": "markdown",
      "source": [
        "##Step 8: Proponer mejoras para melodías\n",
        "\n",
        "Añadimos una columna adicional Sugerencias_Melodía para documentar mejoras que permitan iterar sobre los prompts y ajustar las melodías para alinearse mejor con los perfiles."
      ],
      "metadata": {
        "id": "OV9m5O07Lj6w"
      }
    },
    {
      "cell_type": "code",
      "source": [
        "# Generar sugerencias de mejora para las melodías\n",
        "def generar_sugerencia(row):\n",
        "    if row[\"Concordancia_Perfil_Melodía\"] == \"Sin Datos\":\n",
        "        return \"Faltan calificaciones\"\n",
        "    elif row[\"Concordancia_Perfil_Melodía\"] == True:\n",
        "        return \"Alineación exitosa\"\n",
        "    else:\n",
        "        return f\"Revisar melodía {row['Melodía_Más_Calificada']} para ajustarla al rasgo {perfil_a_rasgo.get(row['Perfil'])}\"\n",
        "\n",
        "# Aplicar las sugerencias\n",
        "df[\"Sugerencias_Melodía\"] = df.apply(generar_sugerencia, axis=1)\n"
      ],
      "metadata": {
        "id": "KNJ4wGG7LpH2"
      },
      "execution_count": 24,
      "outputs": []
    },
    {
      "cell_type": "markdown",
      "source": [
        "#MODELAMIENTO VER 3.0\n",
        "\n",
        "###Implementacion"
      ],
      "metadata": {
        "id": "Oa0tEI8wPGHx"
      }
    },
    {
      "cell_type": "code",
      "source": [
        "# Función para verificar la concordancia con 'Perfil_Asignado'\n",
        "def verificar_concordancia_asignado(row):\n",
        "    perfil = row[\"Perfil_Asignado\"]\n",
        "    if perfil == \"Indefinido\":  # Si el perfil no está asignado, no se puede evaluar\n",
        "        return \"Sin evaluación\"\n",
        "    melodía_asociada = rasgo_a_melodia.get(perfil, None)\n",
        "    if not melodía_asociada:\n",
        "        return \"Sin mapeo\"\n",
        "    return row[\"Melodía_Más_Calificada\"] == melodía_asociada\n",
        "\n",
        "# Aplicar la verificación para el modelo K-Means\n",
        "df[\"Concordancia_Perfil_Asignado_Melodía\"] = df.apply(verificar_concordancia_asignado, axis=1)\n",
        "\n",
        "# Analizar resultados\n",
        "concordancia_asignado_true = df[\"Concordancia_Perfil_Asignado_Melodía\"].value_counts().get(True, 0)\n",
        "total_evaluados_asignado = df[df[\"Concordancia_Perfil_Asignado_Melodía\"] != \"Sin evaluación\"].shape[0]\n",
        "porcentaje_asignado = (concordancia_asignado_true / total_evaluados_asignado * 100) if total_evaluados_asignado > 0 else 0\n",
        "\n",
        "print(f\"Concordancia (Perfil_Asignado): {porcentaje_asignado:.2f}%\")\n"
      ],
      "metadata": {
        "colab": {
          "base_uri": "https://localhost:8080/"
        },
        "id": "s2NjK6urPJ9P",
        "outputId": "51f950ee-a15c-4691-b596-7fd290ff1e59"
      },
      "execution_count": 25,
      "outputs": [
        {
          "output_type": "stream",
          "name": "stdout",
          "text": [
            "Concordancia (Perfil_Asignado): 0.00%\n"
          ]
        }
      ]
    },
    {
      "cell_type": "markdown",
      "source": [
        "###Validación Adicional\n",
        "Comparar las dos métricas de concordancia:\n",
        "\n",
        "Verifica la correlación entre Concordancia_Perfil_Melodía y Concordancia_Perfil_Asignado_Melodía."
      ],
      "metadata": {
        "id": "qNP4IRBmPa7m"
      }
    },
    {
      "cell_type": "code",
      "source": [
        "print(\"Comparación entre métricas:\")\n",
        "print(df[[\"Concordancia_Perfil_Melodía\", \"Concordancia_Perfil_Asignado_Melodía\"]].value_counts())"
      ],
      "metadata": {
        "colab": {
          "base_uri": "https://localhost:8080/"
        },
        "id": "mGooRKO7Pafl",
        "outputId": "f2b99d2f-5853-4e53-afbb-b527264ca9d5"
      },
      "execution_count": 26,
      "outputs": [
        {
          "output_type": "stream",
          "name": "stdout",
          "text": [
            "Comparación entre métricas:\n",
            "Concordancia_Perfil_Melodía  Concordancia_Perfil_Asignado_Melodía\n",
            "True                         Sin evaluación                          27\n",
            "Sin Datos                    Sin evaluación                           4\n",
            "Name: count, dtype: int64\n"
          ]
        }
      ]
    },
    {
      "cell_type": "markdown",
      "source": [
        "###Visualizar diferencias entre métodos:\n",
        "\n",
        "Identificar casos donde Concordancia_Perfil_Melodía y Concordancia_Perfil_Asignado_Melodía difieren."
      ],
      "metadata": {
        "id": "YGmAY4i8PmLm"
      }
    },
    {
      "cell_type": "code",
      "source": [
        "diferencias = df[df[\"Concordancia_Perfil_Melodía\"] != df[\"Concordancia_Perfil_Asignado_Melodía\"]]\n",
        "print(\"Casos con diferencias:\")\n",
        "print(diferencias[[\"Perfil\", \"Perfil_Asignado\", \"Melodía_Más_Calificada\", \"Concordancia_Perfil_Melodía\", \"Concordancia_Perfil_Asignado_Melodía\"]])"
      ],
      "metadata": {
        "colab": {
          "base_uri": "https://localhost:8080/"
        },
        "id": "2JDtMjXXPtsJ",
        "outputId": "e7261011-e08e-485a-8694-09f64edc4c26"
      },
      "execution_count": 27,
      "outputs": [
        {
          "output_type": "stream",
          "name": "stdout",
          "text": [
            "Casos con diferencias:\n",
            "          Perfil Perfil_Asignado    Melodía_Más_Calificada  \\\n",
            "0     Aventurero      Indefinido                       NaN   \n",
            "1     Aventurero      Indefinido                       NaN   \n",
            "2      Analítico      Indefinido                       NaN   \n",
            "3     Aventurero      Indefinido                       NaN   \n",
            "4   Extrovertido      Indefinido  Calificación Melodía No1   \n",
            "5     Aventurero      Indefinido  Calificación Melodía No1   \n",
            "6     Aventurero      Indefinido  Calificación Melodía No1   \n",
            "7     Aventurero      Indefinido  Calificación Melodía No1   \n",
            "8     Aventurero      Indefinido  Calificación Melodía No1   \n",
            "9   Extrovertido      Indefinido  Calificación Melodía No1   \n",
            "10  Extrovertido      Indefinido  Calificación Melodía No1   \n",
            "11  Extrovertido      Indefinido  Calificación Melodía No1   \n",
            "12    Aventurero      Indefinido  Calificación Melodía No1   \n",
            "13     Analítico      Indefinido  Calificación Melodía No1   \n",
            "14    Aventurero      Indefinido  Calificación Melodía No1   \n",
            "15  Extrovertido      Indefinido  Calificación Melodía No1   \n",
            "16    Aventurero      Indefinido  Calificación Melodía No1   \n",
            "17    Aventurero      Indefinido  Calificación Melodía No1   \n",
            "18  Extrovertido      Indefinido  Calificación Melodía No1   \n",
            "19    Aventurero      Indefinido  Calificación Melodía No1   \n",
            "20  Extrovertido      Indefinido  Calificación Melodía No1   \n",
            "21  Extrovertido      Indefinido  Calificación Melodía No1   \n",
            "22    Aventurero      Indefinido  Calificación Melodía No1   \n",
            "23  Extrovertido      Indefinido  Calificación Melodía No1   \n",
            "24     Analítico      Indefinido  Calificación Melodía No1   \n",
            "25    Aventurero      Indefinido  Calificación Melodía No1   \n",
            "26  Extrovertido      Indefinido  Calificación Melodía No1   \n",
            "27     Analítico      Indefinido  Calificación Melodía No1   \n",
            "28     Analítico      Indefinido  Calificación Melodía No1   \n",
            "29    Aventurero      Indefinido  Calificación Melodía No3   \n",
            "30    Aventurero      Indefinido  Calificación Melodía No4   \n",
            "\n",
            "   Concordancia_Perfil_Melodía Concordancia_Perfil_Asignado_Melodía  \n",
            "0                    Sin Datos                       Sin evaluación  \n",
            "1                    Sin Datos                       Sin evaluación  \n",
            "2                    Sin Datos                       Sin evaluación  \n",
            "3                    Sin Datos                       Sin evaluación  \n",
            "4                         True                       Sin evaluación  \n",
            "5                         True                       Sin evaluación  \n",
            "6                         True                       Sin evaluación  \n",
            "7                         True                       Sin evaluación  \n",
            "8                         True                       Sin evaluación  \n",
            "9                         True                       Sin evaluación  \n",
            "10                        True                       Sin evaluación  \n",
            "11                        True                       Sin evaluación  \n",
            "12                        True                       Sin evaluación  \n",
            "13                        True                       Sin evaluación  \n",
            "14                        True                       Sin evaluación  \n",
            "15                        True                       Sin evaluación  \n",
            "16                        True                       Sin evaluación  \n",
            "17                        True                       Sin evaluación  \n",
            "18                        True                       Sin evaluación  \n",
            "19                        True                       Sin evaluación  \n",
            "20                        True                       Sin evaluación  \n",
            "21                        True                       Sin evaluación  \n",
            "22                        True                       Sin evaluación  \n",
            "23                        True                       Sin evaluación  \n",
            "24                        True                       Sin evaluación  \n",
            "25                        True                       Sin evaluación  \n",
            "26                        True                       Sin evaluación  \n",
            "27                        True                       Sin evaluación  \n",
            "28                        True                       Sin evaluación  \n",
            "29                        True                       Sin evaluación  \n",
            "30                        True                       Sin evaluación  \n"
          ]
        }
      ]
    },
    {
      "cell_type": "code",
      "source": [
        "# Verificar columnas antes de exportar\n",
        "print(\"Columnas en el DataFrame antes de exportar:\")\n",
        "print(df.columns)\n",
        "\n",
        "# Ruta donde guardar el archivo\n",
        "output_path = '/content/drive/My Drive/FormResponses_Workshop.xlsx'\n",
        "\n",
        "# Exportar el DataFrame modificado a Excel\n",
        "df.to_excel(output_path, index=False, engine='openpyxl')\n",
        "print(f\"Archivo actualizado exportado a: {output_path}\")\n"
      ],
      "metadata": {
        "colab": {
          "base_uri": "https://localhost:8080/"
        },
        "id": "Kqh1xXZxRbh-",
        "outputId": "5ce7f366-eaf9-47fb-b728-3515901b8d52"
      },
      "execution_count": 28,
      "outputs": [
        {
          "output_type": "stream",
          "name": "stdout",
          "text": [
            "Columnas en el DataFrame antes de exportar:\n",
            "Index(['Timestamp', 'Email Address',\n",
            "       'Me siento entusiasmado/a por explorar nuevos lugares y probar nuevas actividades en mi tiempo libre.',\n",
            "       'Prefiero tener una agenda organizada a ser espontáneo/a en mi día a día.',\n",
            "       'Disfruto más de reuniones grandes con muchos amigos que de encuentros íntimos.',\n",
            "       'Es importante para mí ayudar a los demás y participar en actividades comunitarias.',\n",
            "       'Frecuentemente me preocupo por situaciones futuras o imprevistas.',\n",
            "       'Regularmente me interesa aprender sobre tradiciones y culturas diferentes.',\n",
            "       'Prefiero actividades que requieren un enfoque detallado a tareas más flexibles.',\n",
            "       'A menudo busco emociones fuertes y actividades que me hagan sentir adrenalina.',\n",
            "       'Frecuentemente participo en actividades voluntarias o de ayuda comunitaria.',\n",
            "       'Me siento cómodo/a con cambios inesperados o planes de último momento.',\n",
            "       'Calificación Melodía No1', 'Calificación Melodía No2',\n",
            "       'Calificación Melodía No3', 'Calificación Melodía No4',\n",
            "       'Calificación Melodía No5',\n",
            "       'Registre Su Nombre de la siguiente manera (Juan Pérez) = JUAPER las 3 primeras letras de su primer Nombre y las 3 primeras letras de su primer Apellido',\n",
            "       'Puntaje_O', 'Puntaje_C', 'Puntaje_E', 'Puntaje_A', 'Puntaje_N',\n",
            "       'Cluster', 'Perfil', 'Melodía_Más_Calificada', 'Rasgo_Melodía',\n",
            "       'Concordancia_Perfil_Melodía', 'Calificaciones_Completas',\n",
            "       'Perfil_Asignado', 'Sugerencias_Melodía',\n",
            "       'Concordancia_Perfil_Asignado_Melodía'],\n",
            "      dtype='object')\n",
            "Archivo actualizado exportado a: /content/drive/My Drive/FormResponses_Workshop.xlsx\n"
          ]
        }
      ]
    },
    {
      "cell_type": "markdown",
      "source": [
        "##Paso 2.4: Guardar como archivo Excel\n",
        "Ahora vamos a guardar el DataFrame que obtuvimos en un archivo .xlsx en tu Google Drive:"
      ],
      "metadata": {
        "id": "p98SD-NOoRwk"
      }
    },
    {
      "cell_type": "code",
      "source": [
        "# Ruta donde guardar el archivo en tu Google Drive\n",
        "output_path = '/content/drive/My Drive/FormResponses.xlsx'\n",
        "\n",
        "# Guardar el DataFrame como archivo Excel\n",
        "df.to_excel(output_path, index=False, engine='openpyxl')\n",
        "print(f'Archivo guardado en: {output_path}')\n"
      ],
      "metadata": {
        "colab": {
          "base_uri": "https://localhost:8080/"
        },
        "id": "y-a0fEbcoQup",
        "outputId": "56cb81a0-b8f5-4865-b971-9e5534417f1f"
      },
      "execution_count": 29,
      "outputs": [
        {
          "output_type": "stream",
          "name": "stdout",
          "text": [
            "Archivo guardado en: /content/drive/My Drive/FormResponses.xlsx\n"
          ]
        }
      ]
    },
    {
      "cell_type": "markdown",
      "source": [
        "#Step 3: Compartir el archivo con los asistentes\n",
        "##3.1 Crear una carpeta compartida\n",
        "Entra a tu Google Drive.\n",
        "Crea una nueva carpeta, por ejemplo: Workshop Data.\n",
        "Configura la carpeta como compartida:\n",
        "Haz clic derecho en la carpeta y selecciona Compartir.\n",
        "Cambia los permisos a Cualquiera con el enlace puede ver.\n",
        "3.2 Mover el archivo a la carpeta compartida\n",
        "Puedes:\n",
        "\n",
        "Mover manualmente el archivo FormResponses.xlsx a la carpeta compartida desde tu Drive.\n",
        "O modificar el código para guardar el archivo directamente en la carpeta compartida:\n",
        "python\n",
        "Copiar código\n",
        "\n",
        "https://docs.google.com/spreadsheets/d/1TgDjEQDSQCQg4V5TmO93_PkJb9gGmgdY/edit?usp=sharing&ouid=117189623288650686490&rtpof=true&sd=true\n"
      ],
      "metadata": {
        "id": "Vj_AAj_Zobph"
      }
    },
    {
      "cell_type": "code",
      "source": [
        "# Modificar la ruta para guardar en la carpeta compartida\n",
        "shared_folder_path = '/content/drive/My Drive/Workshop Data/FormResponses.xlsx'\n",
        "df.to_excel(shared_folder_path, index=False, engine='openpyxl')\n",
        "print(f'Archivo guardado en la carpeta compartida: {shared_folder_path}')\n"
      ],
      "metadata": {
        "colab": {
          "base_uri": "https://localhost:8080/"
        },
        "id": "iNOfklaOo800",
        "outputId": "4245a0ed-ca5b-4309-f0d2-f29f39b65f9a"
      },
      "execution_count": 30,
      "outputs": [
        {
          "output_type": "stream",
          "name": "stdout",
          "text": [
            "Archivo guardado en la carpeta compartida: /content/drive/My Drive/Workshop Data/FormResponses.xlsx\n"
          ]
        }
      ]
    },
    {
      "cell_type": "markdown",
      "source": [
        "#Step 4: Proveer acceso y guiar a los asistentes\n",
        "\n",
        "##4.1 Incluir el enlace de la carpeta compartida\n",
        "Copia el enlace de la carpeta compartida desde Google Drive.\n",
        "Incluye este enlace en las instrucciones del README para que los asistentes puedan descargar el archivo.\n",
        "\n",
        "##4.2 Código para cargar el archivo desde Google Drive (asistentes)\n",
        "Agrega estas instrucciones en el README para guiar a los asistentes sobre cómo cargar el archivo:"
      ],
      "metadata": {
        "id": "EsfzBsjJp4WN"
      }
    },
    {
      "cell_type": "code",
      "source": [
        "from google.colab import drive\n",
        "drive.mount('/content/drive')\n",
        "\n",
        "# Ruta al archivo compartido en Google Drive\n",
        "file_path = '/content/drive/My Drive/Workshop Data/FormResponses.xlsx'\n",
        "\n",
        "# Leer el archivo Excel\n",
        "import pandas as pd\n",
        "df = pd.read_excel(file_path)\n",
        "\n",
        "# Verificar los datos cargados\n",
        "print(\"Datos cargados desde el archivo compartido:\")\n",
        "print(df.head())"
      ],
      "metadata": {
        "colab": {
          "base_uri": "https://localhost:8080/"
        },
        "id": "-1G7ID7yqIxo",
        "outputId": "2d6411a3-7d87-42e7-9952-7b67b541a199"
      },
      "execution_count": 31,
      "outputs": [
        {
          "output_type": "stream",
          "name": "stdout",
          "text": [
            "Drive already mounted at /content/drive; to attempt to forcibly remount, call drive.mount(\"/content/drive\", force_remount=True).\n",
            "Datos cargados desde el archivo compartido:\n",
            "             Timestamp Email Address  \\\n",
            "0  10/23/2023 18:15:48           NaN   \n",
            "1  10/23/2023 18:19:02           NaN   \n",
            "2  10/23/2023 18:20:07           NaN   \n",
            "3  10/23/2023 18:20:26           NaN   \n",
            "4    5/7/2024 17:40:01           NaN   \n",
            "\n",
            "   Me siento entusiasmado/a por explorar nuevos lugares y probar nuevas actividades en mi tiempo libre.  \\\n",
            "0                                                  5                                                      \n",
            "1                                                  5                                                      \n",
            "2                                                  4                                                      \n",
            "3                                                  5                                                      \n",
            "4                                                  5                                                      \n",
            "\n",
            "   Prefiero tener una agenda organizada a ser espontáneo/a en mi día a día.  \\\n",
            "0                                                  3                          \n",
            "1                                                  4                          \n",
            "2                                                  5                          \n",
            "3                                                  3                          \n",
            "4                                                  4                          \n",
            "\n",
            "   Disfruto más de reuniones grandes con muchos amigos que de encuentros íntimos.  \\\n",
            "0                                                  3                                \n",
            "1                                                  3                                \n",
            "2                                                  5                                \n",
            "3                                                  4                                \n",
            "4                                                  2                                \n",
            "\n",
            "   Es importante para mí ayudar a los demás y participar en actividades comunitarias.  \\\n",
            "0                                                  4                                    \n",
            "1                                                  5                                    \n",
            "2                                                  4                                    \n",
            "3                                                  4                                    \n",
            "4                                                  3                                    \n",
            "\n",
            "   Frecuentemente me preocupo por situaciones futuras o imprevistas.  \\\n",
            "0                                                  4                   \n",
            "1                                                  5                   \n",
            "2                                                  5                   \n",
            "3                                                  4                   \n",
            "4                                                  3                   \n",
            "\n",
            "   Regularmente me interesa aprender sobre tradiciones y culturas diferentes.  \\\n",
            "0                                                  4                            \n",
            "1                                                  4                            \n",
            "2                                                  5                            \n",
            "3                                                  3                            \n",
            "4                                                  4                            \n",
            "\n",
            "   Prefiero actividades que requieren un enfoque detallado a tareas más flexibles.  \\\n",
            "0                                                  4                                 \n",
            "1                                                  5                                 \n",
            "2                                                  2                                 \n",
            "3                                                  4                                 \n",
            "4                                                  3                                 \n",
            "\n",
            "   A menudo busco emociones fuertes y actividades que me hagan sentir adrenalina.  \\\n",
            "0                                                  5                                \n",
            "1                                                  3                                \n",
            "2                                                  5                                \n",
            "3                                                  4                                \n",
            "4                                                  2                                \n",
            "\n",
            "   ...  Puntaje_N  Cluster        Perfil    Melodía_Más_Calificada  \\\n",
            "0  ...        2.5        2    Aventurero                       NaN   \n",
            "1  ...        3.5        2    Aventurero                       NaN   \n",
            "2  ...        4.5        1     Analítico                       NaN   \n",
            "3  ...        3.0        2    Aventurero                       NaN   \n",
            "4  ...        2.5        0  Extrovertido  Calificación Melodía No1   \n",
            "\n",
            "   Rasgo_Melodía  Concordancia_Perfil_Melodía  Calificaciones_Completas  \\\n",
            "0            NaN                    Sin Datos                     False   \n",
            "1            NaN                    Sin Datos                     False   \n",
            "2            NaN                    Sin Datos                     False   \n",
            "3            NaN                    Sin Datos                     False   \n",
            "4            NaN                         True                      True   \n",
            "\n",
            "  Perfil_Asignado    Sugerencias_Melodía  Concordancia_Perfil_Asignado_Melodía  \n",
            "0      Indefinido  Faltan calificaciones                        Sin evaluación  \n",
            "1      Indefinido  Faltan calificaciones                        Sin evaluación  \n",
            "2      Indefinido  Faltan calificaciones                        Sin evaluación  \n",
            "3      Indefinido  Faltan calificaciones                        Sin evaluación  \n",
            "4      Indefinido     Alineación exitosa                        Sin evaluación  \n",
            "\n",
            "[5 rows x 32 columns]\n"
          ]
        }
      ]
    }
  ]
}